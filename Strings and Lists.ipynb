{
 "cells": [
  {
   "cell_type": "code",
   "execution_count": 1,
   "id": "a5571c34",
   "metadata": {},
   "outputs": [],
   "source": [
    "str='abc def'"
   ]
  },
  {
   "cell_type": "code",
   "execution_count": 2,
   "id": "8700c52a",
   "metadata": {},
   "outputs": [],
   "source": [
    "a=\"This is Aman's pen\""
   ]
  },
  {
   "cell_type": "code",
   "execution_count": 4,
   "id": "ca60bf22",
   "metadata": {},
   "outputs": [],
   "source": [
    "b='he said,\"He is a good guy\"'"
   ]
  },
  {
   "cell_type": "markdown",
   "id": "6f9c06ea",
   "metadata": {},
   "source": [
    "##### Escaping "
   ]
  },
  {
   "cell_type": "code",
   "execution_count": 6,
   "id": "877f7f79",
   "metadata": {},
   "outputs": [
    {
     "name": "stdout",
     "output_type": "stream",
     "text": [
      "This is Aman's pen\n"
     ]
    }
   ],
   "source": [
    "str='This is Aman\\'s pen'\n",
    "print(str)"
   ]
  },
  {
   "cell_type": "markdown",
   "id": "b2d2f116",
   "metadata": {},
   "source": [
    "#### Concatination"
   ]
  },
  {
   "cell_type": "code",
   "execution_count": 12,
   "id": "3cab75bc",
   "metadata": {},
   "outputs": [],
   "source": [
    "a=\"This is Aman's pen\"\n",
    "b='he said,\"Life is great\"'"
   ]
  },
  {
   "cell_type": "code",
   "execution_count": 13,
   "id": "aacbfa53",
   "metadata": {},
   "outputs": [
    {
     "data": {
      "text/plain": [
       "(\"This is Aman's pen\", 'he said,\"Life is great\"')"
      ]
     },
     "execution_count": 13,
     "metadata": {},
     "output_type": "execute_result"
    }
   ],
   "source": [
    "a,b"
   ]
  },
  {
   "cell_type": "code",
   "execution_count": 11,
   "id": "247c4715",
   "metadata": {},
   "outputs": [
    {
     "data": {
      "text/plain": [
       "'This is Aman\\'s penhe said,\"Life is great\"'"
      ]
     },
     "execution_count": 11,
     "metadata": {},
     "output_type": "execute_result"
    }
   ],
   "source": [
    "a+b #Concate"
   ]
  },
  {
   "cell_type": "code",
   "execution_count": 14,
   "id": "578a8463",
   "metadata": {},
   "outputs": [],
   "source": [
    "a=a+b"
   ]
  },
  {
   "cell_type": "markdown",
   "id": "7f2718e6",
   "metadata": {},
   "source": [
    "#### Comparision"
   ]
  },
  {
   "cell_type": "code",
   "execution_count": 15,
   "id": "0fd27ad0",
   "metadata": {},
   "outputs": [
    {
     "data": {
      "text/plain": [
       "False"
      ]
     },
     "execution_count": 15,
     "metadata": {},
     "output_type": "execute_result"
    }
   ],
   "source": [
    "a==b"
   ]
  },
  {
   "cell_type": "code",
   "execution_count": 16,
   "id": "33792a4d",
   "metadata": {},
   "outputs": [
    {
     "data": {
      "text/plain": [
       "False"
      ]
     },
     "execution_count": 16,
     "metadata": {},
     "output_type": "execute_result"
    }
   ],
   "source": [
    "a>b"
   ]
  },
  {
   "cell_type": "markdown",
   "id": "3347f0f4",
   "metadata": {},
   "source": [
    "### FUNCTIONS "
   ]
  },
  {
   "cell_type": "code",
   "execution_count": 28,
   "id": "87d076ee",
   "metadata": {},
   "outputs": [],
   "source": [
    "str=\"aman is a good boy, he is handsome as well.\""
   ]
  },
  {
   "cell_type": "code",
   "execution_count": 29,
   "id": "a4c1832c",
   "metadata": {},
   "outputs": [
    {
     "data": {
      "text/plain": [
       "['aman', 'is', 'a', 'good', 'boy,', 'he', 'is', 'handsome', 'as', 'well.']"
      ]
     },
     "execution_count": 29,
     "metadata": {},
     "output_type": "execute_result"
    }
   ],
   "source": [
    "str.split()"
   ]
  },
  {
   "cell_type": "code",
   "execution_count": 30,
   "id": "031fead6",
   "metadata": {},
   "outputs": [
    {
     "data": {
      "text/plain": [
       "['aman ', ' a good boy, he ', ' handsome as well.']"
      ]
     },
     "execution_count": 30,
     "metadata": {},
     "output_type": "execute_result"
    }
   ],
   "source": [
    "str.split('is')"
   ]
  },
  {
   "cell_type": "code",
   "execution_count": 31,
   "id": "ca64abbf",
   "metadata": {},
   "outputs": [
    {
     "data": {
      "text/plain": [
       "True"
      ]
     },
     "execution_count": 31,
     "metadata": {},
     "output_type": "execute_result"
    }
   ],
   "source": [
    "str.endswith(\"ell.\")"
   ]
  },
  {
   "cell_type": "code",
   "execution_count": 44,
   "id": "a7e92f46",
   "metadata": {},
   "outputs": [
    {
     "data": {
      "text/plain": [
       "False"
      ]
     },
     "execution_count": 44,
     "metadata": {},
     "output_type": "execute_result"
    }
   ],
   "source": [
    "str.startswith(\"str\")"
   ]
  },
  {
   "cell_type": "code",
   "execution_count": 32,
   "id": "3159b611",
   "metadata": {},
   "outputs": [
    {
     "data": {
      "text/plain": [
       "'Aman is a good boy, he is handsome as well.'"
      ]
     },
     "execution_count": 32,
     "metadata": {},
     "output_type": "execute_result"
    }
   ],
   "source": [
    "str.capitalize()"
   ]
  },
  {
   "cell_type": "code",
   "execution_count": 33,
   "id": "55a51289",
   "metadata": {},
   "outputs": [
    {
     "data": {
      "text/plain": [
       "'aman are a good boy, he are handsome as well.'"
      ]
     },
     "execution_count": 33,
     "metadata": {},
     "output_type": "execute_result"
    }
   ],
   "source": [
    "str.replace(\"is\",\"are\")"
   ]
  },
  {
   "cell_type": "code",
   "execution_count": 37,
   "id": "40f06e69",
   "metadata": {},
   "outputs": [
    {
     "data": {
      "text/plain": [
       "11"
      ]
     },
     "execution_count": 37,
     "metadata": {},
     "output_type": "execute_result"
    }
   ],
   "source": [
    "str.find(\"o\")"
   ]
  },
  {
   "cell_type": "code",
   "execution_count": 38,
   "id": "e11bb5d5",
   "metadata": {},
   "outputs": [
    {
     "data": {
      "text/plain": [
       "-1"
      ]
     },
     "execution_count": 38,
     "metadata": {},
     "output_type": "execute_result"
    }
   ],
   "source": [
    "str.find(\"r\")"
   ]
  },
  {
   "cell_type": "code",
   "execution_count": 39,
   "id": "cc25e68d",
   "metadata": {},
   "outputs": [
    {
     "data": {
      "text/plain": [
       "2"
      ]
     },
     "execution_count": 39,
     "metadata": {},
     "output_type": "execute_result"
    }
   ],
   "source": [
    "str.count(\"is\")"
   ]
  },
  {
   "cell_type": "code",
   "execution_count": 40,
   "id": "69d70375",
   "metadata": {},
   "outputs": [
    {
     "data": {
      "text/plain": [
       "'AMAN IS A GOOD BOY, HE IS HANDSOME AS WELL.'"
      ]
     },
     "execution_count": 40,
     "metadata": {},
     "output_type": "execute_result"
    }
   ],
   "source": [
    "str.upper()"
   ]
  },
  {
   "cell_type": "code",
   "execution_count": 41,
   "id": "b7098710",
   "metadata": {},
   "outputs": [
    {
     "data": {
      "text/plain": [
       "'aman is a good boy, he is handsome as well.'"
      ]
     },
     "execution_count": 41,
     "metadata": {},
     "output_type": "execute_result"
    }
   ],
   "source": [
    "str.lower()"
   ]
  },
  {
   "cell_type": "code",
   "execution_count": 42,
   "id": "22a28b4d",
   "metadata": {},
   "outputs": [
    {
     "data": {
      "text/plain": [
       "False"
      ]
     },
     "execution_count": 42,
     "metadata": {},
     "output_type": "execute_result"
    }
   ],
   "source": [
    "str.isalpha() #Contains only alphabets ,in our case there is spaces"
   ]
  },
  {
   "cell_type": "markdown",
   "id": "9166d51a",
   "metadata": {},
   "source": [
    "### SLICING"
   ]
  },
  {
   "cell_type": "code",
   "execution_count": 45,
   "id": "a784c77e",
   "metadata": {},
   "outputs": [],
   "source": [
    "str=\"This is a string\""
   ]
  },
  {
   "cell_type": "code",
   "execution_count": 47,
   "id": "a91d71b6",
   "metadata": {},
   "outputs": [
    {
     "data": {
      "text/plain": [
       "'This is a string'"
      ]
     },
     "execution_count": 47,
     "metadata": {},
     "output_type": "execute_result"
    }
   ],
   "source": [
    "str[:]"
   ]
  },
  {
   "cell_type": "code",
   "execution_count": 48,
   "id": "c02802f6",
   "metadata": {},
   "outputs": [
    {
     "data": {
      "text/plain": [
       "'is is a string'"
      ]
     },
     "execution_count": 48,
     "metadata": {},
     "output_type": "execute_result"
    }
   ],
   "source": [
    "str[2:]"
   ]
  },
  {
   "cell_type": "code",
   "execution_count": 49,
   "id": "4bc02059",
   "metadata": {},
   "outputs": [
    {
     "data": {
      "text/plain": [
       "'This i'"
      ]
     },
     "execution_count": 49,
     "metadata": {},
     "output_type": "execute_result"
    }
   ],
   "source": [
    "str[:6]"
   ]
  },
  {
   "cell_type": "code",
   "execution_count": 50,
   "id": "9e247ec7",
   "metadata": {},
   "outputs": [
    {
     "data": {
      "text/plain": [
       "'is a '"
      ]
     },
     "execution_count": 50,
     "metadata": {},
     "output_type": "execute_result"
    }
   ],
   "source": [
    "str[5:10]"
   ]
  },
  {
   "cell_type": "code",
   "execution_count": 51,
   "id": "2e8ad756",
   "metadata": {},
   "outputs": [
    {
     "data": {
      "text/plain": [
       "'i sa'"
      ]
     },
     "execution_count": 51,
     "metadata": {},
     "output_type": "execute_result"
    }
   ],
   "source": [
    "str[2:10:2] #start,stop,step"
   ]
  },
  {
   "cell_type": "code",
   "execution_count": 52,
   "id": "e5957dbb",
   "metadata": {},
   "outputs": [
    {
     "data": {
      "text/plain": [
       "'rsas '"
      ]
     },
     "execution_count": 52,
     "metadata": {},
     "output_type": "execute_result"
    }
   ],
   "source": [
    "str[12:2:-2]"
   ]
  },
  {
   "cell_type": "code",
   "execution_count": 53,
   "id": "bebb7693",
   "metadata": {},
   "outputs": [
    {
     "data": {
      "text/plain": [
       "'g'"
      ]
     },
     "execution_count": 53,
     "metadata": {},
     "output_type": "execute_result"
    }
   ],
   "source": [
    "str[-1:]"
   ]
  },
  {
   "cell_type": "markdown",
   "id": "f7da4bd9",
   "metadata": {},
   "source": [
    "### CHECK PALINDRONE"
   ]
  },
  {
   "cell_type": "code",
   "execution_count": 68,
   "id": "66e46889",
   "metadata": {},
   "outputs": [
    {
     "name": "stdout",
     "output_type": "stream",
     "text": [
      "Palindrone\n"
     ]
    }
   ],
   "source": [
    "name=[\"2 3 5 7 8\"]\n",
    "name1=name.copy()\n",
    "name1.reverse()\n",
    "if name1==name:\n",
    "    print(\"Palindrone\")\n",
    "else:\n",
    "    print(\"Not a Palindrone\")\n"
   ]
  },
  {
   "cell_type": "markdown",
   "id": "a6ec5cb3",
   "metadata": {},
   "source": [
    "## LISTS"
   ]
  },
  {
   "cell_type": "code",
   "execution_count": 2,
   "id": "ab0ae32f",
   "metadata": {},
   "outputs": [
    {
     "name": "stdout",
     "output_type": "stream",
     "text": [
      "[]\n"
     ]
    }
   ],
   "source": [
    "a=list()\n",
    "print(a)"
   ]
  },
  {
   "cell_type": "code",
   "execution_count": 3,
   "id": "4636ef71",
   "metadata": {
    "scrolled": true
   },
   "outputs": [
    {
     "name": "stdout",
     "output_type": "stream",
     "text": [
      "[1, 2.0, 'hello', True]\n"
     ]
    }
   ],
   "source": [
    "a=[1,2.0,\"hello\",True]\n",
    "print(a)"
   ]
  },
  {
   "cell_type": "code",
   "execution_count": 4,
   "id": "c0257113",
   "metadata": {},
   "outputs": [
    {
     "data": {
      "text/plain": [
       "True"
      ]
     },
     "execution_count": 4,
     "metadata": {},
     "output_type": "execute_result"
    }
   ],
   "source": [
    "a[3]"
   ]
  },
  {
   "cell_type": "code",
   "execution_count": 1,
   "id": "42cf0571",
   "metadata": {},
   "outputs": [
    {
     "data": {
      "text/plain": [
       "['h', 'e', 'l', 'l', 'o']"
      ]
     },
     "execution_count": 1,
     "metadata": {},
     "output_type": "execute_result"
    }
   ],
   "source": [
    "list(\"hello\")"
   ]
  },
  {
   "cell_type": "code",
   "execution_count": 2,
   "id": "9da7f2b7",
   "metadata": {},
   "outputs": [
    {
     "name": "stdout",
     "output_type": "stream",
     "text": [
      "[0, 1, 2, 3, 4, 5, 6, 7, 8, 9, 10]\n"
     ]
    }
   ],
   "source": [
    "b=[i for i in range(11)]\n",
    "print(b)"
   ]
  },
  {
   "cell_type": "code",
   "execution_count": 3,
   "id": "33d4a8b7",
   "metadata": {},
   "outputs": [],
   "source": [
    "a=[1,2,3,4,5]"
   ]
  },
  {
   "cell_type": "code",
   "execution_count": 4,
   "id": "0eea7057",
   "metadata": {},
   "outputs": [
    {
     "data": {
      "text/plain": [
       "5"
      ]
     },
     "execution_count": 4,
     "metadata": {},
     "output_type": "execute_result"
    }
   ],
   "source": [
    "len(a)"
   ]
  },
  {
   "cell_type": "code",
   "execution_count": 5,
   "id": "3db1b99d",
   "metadata": {},
   "outputs": [],
   "source": [
    "b=[6,7,8,9,0]"
   ]
  },
  {
   "cell_type": "code",
   "execution_count": 6,
   "id": "076b1178",
   "metadata": {},
   "outputs": [
    {
     "data": {
      "text/plain": [
       "[1, 2, 3, 4, 5, 6, 7, 8, 9, 0]"
      ]
     },
     "execution_count": 6,
     "metadata": {},
     "output_type": "execute_result"
    }
   ],
   "source": [
    "a+b"
   ]
  },
  {
   "cell_type": "code",
   "execution_count": 39,
   "id": "59ed471f",
   "metadata": {},
   "outputs": [
    {
     "data": {
      "text/plain": [
       "[6, 7, 8, 9, 0, 6, 7, 8, 9, 0, 6, 7, 8, 9, 0]"
      ]
     },
     "execution_count": 39,
     "metadata": {},
     "output_type": "execute_result"
    }
   ],
   "source": [
    "b*3"
   ]
  },
  {
   "cell_type": "markdown",
   "id": "9b5041e1",
   "metadata": {},
   "source": [
    "### List Slicing"
   ]
  },
  {
   "cell_type": "code",
   "execution_count": 1,
   "id": "9e213f84",
   "metadata": {},
   "outputs": [],
   "source": [
    "list=[1 ,2 ,3,\"abc\" ,4.69, True]"
   ]
  },
  {
   "cell_type": "code",
   "execution_count": 2,
   "id": "09dc81d2",
   "metadata": {},
   "outputs": [
    {
     "data": {
      "text/plain": [
       "[1, 2, 3, 'abc', 4.69, True]"
      ]
     },
     "execution_count": 2,
     "metadata": {},
     "output_type": "execute_result"
    }
   ],
   "source": [
    "list"
   ]
  },
  {
   "cell_type": "code",
   "execution_count": 6,
   "id": "d9a75589",
   "metadata": {},
   "outputs": [
    {
     "data": {
      "text/plain": [
       "[True, 4.69]"
      ]
     },
     "execution_count": 6,
     "metadata": {},
     "output_type": "execute_result"
    }
   ],
   "source": [
    "list[10:3:-1]"
   ]
  },
  {
   "cell_type": "code",
   "execution_count": 7,
   "id": "2d2070ec",
   "metadata": {},
   "outputs": [
    {
     "data": {
      "text/plain": [
       "[]"
      ]
     },
     "execution_count": 7,
     "metadata": {},
     "output_type": "execute_result"
    }
   ],
   "source": [
    "list[10:-1:-1]"
   ]
  },
  {
   "cell_type": "code",
   "execution_count": 8,
   "id": "58d35c33",
   "metadata": {},
   "outputs": [
    {
     "data": {
      "text/plain": [
       "[True, 4.69, 'abc']"
      ]
     },
     "execution_count": 8,
     "metadata": {},
     "output_type": "execute_result"
    }
   ],
   "source": [
    "list[:2:-1]"
   ]
  },
  {
   "cell_type": "code",
   "execution_count": 9,
   "id": "4492942f",
   "metadata": {},
   "outputs": [
    {
     "data": {
      "text/plain": [
       "[True, 4.69, 'abc', 3, 2, 1]"
      ]
     },
     "execution_count": 9,
     "metadata": {},
     "output_type": "execute_result"
    }
   ],
   "source": [
    "list[::-1]"
   ]
  },
  {
   "cell_type": "code",
   "execution_count": 2,
   "id": "24dbe948",
   "metadata": {},
   "outputs": [
    {
     "name": "stdout",
     "output_type": "stream",
     "text": [
      "10\n",
      "5\n"
     ]
    }
   ],
   "source": [
    "a = 5\n",
    "b = 10 \n",
    "a,b = b,a \n",
    "print(a)\n",
    "print(b)"
   ]
  }
 ],
 "metadata": {
  "kernelspec": {
   "display_name": "Python 3 (ipykernel)",
   "language": "python",
   "name": "python3"
  },
  "language_info": {
   "codemirror_mode": {
    "name": "ipython",
    "version": 3
   },
   "file_extension": ".py",
   "mimetype": "text/x-python",
   "name": "python",
   "nbconvert_exporter": "python",
   "pygments_lexer": "ipython3",
   "version": "3.8.19"
  }
 },
 "nbformat": 4,
 "nbformat_minor": 5
}
