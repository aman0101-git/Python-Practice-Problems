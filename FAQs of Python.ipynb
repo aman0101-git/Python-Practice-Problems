{
 "cells": [
  {
   "cell_type": "markdown",
   "id": "f4874f70",
   "metadata": {},
   "source": [
    "### Swaping"
   ]
  },
  {
   "cell_type": "code",
   "execution_count": 1,
   "id": "adfaec1c",
   "metadata": {},
   "outputs": [
    {
     "name": "stdout",
     "output_type": "stream",
     "text": [
      "10\n",
      "5\n"
     ]
    }
   ],
   "source": [
    "a = 5\n",
    "b = 10 \n",
    "a,b = b,a \n",
    "print (a)\n",
    "print (b)"
   ]
  },
  {
   "cell_type": "markdown",
   "id": "de28f624",
   "metadata": {},
   "source": [
    "### Even & Odd"
   ]
  },
  {
   "cell_type": "code",
   "execution_count": 2,
   "id": "00ff4dec",
   "metadata": {},
   "outputs": [
    {
     "name": "stdout",
     "output_type": "stream",
     "text": [
      "3\n",
      "odd\n"
     ]
    }
   ],
   "source": [
    "num = int(input())\n",
    "if num % 2 == 0 :\n",
    "    print (\"even\")\n",
    "else :\n",
    "    print (\"odd\")"
   ]
  },
  {
   "cell_type": "markdown",
   "id": "3d5e2873",
   "metadata": {},
   "source": [
    "### Sum of n numbers"
   ]
  },
  {
   "cell_type": "code",
   "execution_count": 3,
   "id": "d2aee594",
   "metadata": {},
   "outputs": [
    {
     "name": "stdout",
     "output_type": "stream",
     "text": [
      "8\n",
      "36\n"
     ]
    }
   ],
   "source": [
    "num = int(input())\n",
    "sum = 0\n",
    "for i  in range (1,num+1):\n",
    "    sum+=i\n",
    "    \n",
    "print (sum)"
   ]
  },
  {
   "cell_type": "markdown",
   "id": "109d6616",
   "metadata": {},
   "source": [
    "### Factorial"
   ]
  },
  {
   "cell_type": "code",
   "execution_count": 4,
   "id": "86946e7a",
   "metadata": {},
   "outputs": [
    {
     "name": "stdout",
     "output_type": "stream",
     "text": [
      "8\n",
      "40320\n"
     ]
    }
   ],
   "source": [
    "num=int(input())\n",
    "fact=1\n",
    "for i in range (1,num+1):\n",
    "    fact*=i\n",
    "    \n",
    "print(fact)"
   ]
  },
  {
   "cell_type": "markdown",
   "id": "04afd654",
   "metadata": {},
   "source": [
    "### Prime or Not"
   ]
  },
  {
   "cell_type": "code",
   "execution_count": 11,
   "id": "57f33796",
   "metadata": {},
   "outputs": [
    {
     "name": "stdout",
     "output_type": "stream",
     "text": [
      "11\n",
      "Prime\n"
     ]
    }
   ],
   "source": [
    "n=int(input())\n",
    "count=0\n",
    "for i in range(1,n+1):\n",
    "    if n%i==0:\n",
    "        count+=1\n",
    "if(count==2):\n",
    "    print(\"Prime\")\n",
    "else:\n",
    "    print(\"Not Prime\")"
   ]
  },
  {
   "cell_type": "markdown",
   "id": "489cd3ea",
   "metadata": {},
   "source": [
    "### All Prime Nos"
   ]
  },
  {
   "cell_type": "code",
   "execution_count": 18,
   "id": "769e37bd",
   "metadata": {},
   "outputs": [
    {
     "name": "stdout",
     "output_type": "stream",
     "text": [
      "20\n",
      "2\n",
      "3\n",
      "5\n",
      "7\n",
      "11\n",
      "13\n",
      "17\n",
      "19\n"
     ]
    }
   ],
   "source": [
    "n=int(input())\n",
    "for j in range(1,n+1): \n",
    "    count=0\n",
    "    for i in range(1,n+1):\n",
    "        if j%i==0:\n",
    "            count+=1\n",
    "    if(count==2):\n",
    "        print(j)\n",
    "    j+=1    "
   ]
  },
  {
   "cell_type": "markdown",
   "id": "59a4cd74",
   "metadata": {},
   "source": [
    "### Check Palindrome"
   ]
  },
  {
   "cell_type": "code",
   "execution_count": 20,
   "id": "ac4dc7b9",
   "metadata": {},
   "outputs": [
    {
     "name": "stdout",
     "output_type": "stream",
     "text": [
      "123456\n",
      "Not pallindrome\n"
     ]
    }
   ],
   "source": [
    "string = input()\n",
    "revstr= string[::-1]\n",
    "if string==revstr:\n",
    "    print(\"pallindrome\")\n",
    "else:\n",
    "    print(\"Not pallindrome\")\n",
    "    \n"
   ]
  },
  {
   "cell_type": "markdown",
   "id": "b8c12de7",
   "metadata": {},
   "source": [
    "### Largest Element"
   ]
  },
  {
   "cell_type": "code",
   "execution_count": 4,
   "id": "6004738a",
   "metadata": {},
   "outputs": [
    {
     "name": "stdout",
     "output_type": "stream",
     "text": [
      "95\n"
     ]
    }
   ],
   "source": [
    "list=[12,34,54,23,44,64,72,6,19,84,27,95]           \n",
    "#print(max(list))\n",
    "'''list2=sorted(list)\n",
    "print(list2.pop())'''\n",
    "maxi=list[0]\n",
    "for i in range(len(list)):\n",
    "    if list[i]>maxi:\n",
    "        maxi=list[i]\n",
    "print(maxi)    \n",
    "\n"
   ]
  },
  {
   "cell_type": "markdown",
   "id": "25c7a88c",
   "metadata": {},
   "source": [
    "### Second Largest"
   ]
  },
  {
   "cell_type": "code",
   "execution_count": 3,
   "id": "5690ba85",
   "metadata": {},
   "outputs": [
    {
     "name": "stdout",
     "output_type": "stream",
     "text": [
      "84\n"
     ]
    }
   ],
   "source": [
    "list=[12,34,54,23,44,64,72,6,19,84,27,95]\n",
    "list2=sorted(list)\n",
    "print(list2[-2])\n"
   ]
  },
  {
   "cell_type": "markdown",
   "id": "1aabdde8",
   "metadata": {},
   "source": [
    "### Anagram"
   ]
  },
  {
   "cell_type": "code",
   "execution_count": 3,
   "id": "bdb36c14",
   "metadata": {},
   "outputs": [
    {
     "name": "stdout",
     "output_type": "stream",
     "text": [
      "Anagram\n"
     ]
    }
   ],
   "source": [
    "str=\"secure\"\n",
    "str2=\"rescue\"\n",
    "if sorted(str)==sorted(str2):\n",
    "    print(\"Anagram\")\n",
    "else:\n",
    "    print(\"Not Anagram\")"
   ]
  },
  {
   "cell_type": "code",
   "execution_count": null,
   "id": "4f92b88e",
   "metadata": {},
   "outputs": [],
   "source": []
  }
 ],
 "metadata": {
  "kernelspec": {
   "display_name": "Python 3 (ipykernel)",
   "language": "python",
   "name": "python3"
  },
  "language_info": {
   "codemirror_mode": {
    "name": "ipython",
    "version": 3
   },
   "file_extension": ".py",
   "mimetype": "text/x-python",
   "name": "python",
   "nbconvert_exporter": "python",
   "pygments_lexer": "ipython3",
   "version": "3.8.19"
  }
 },
 "nbformat": 4,
 "nbformat_minor": 5
}
