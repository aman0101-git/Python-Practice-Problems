{
 "cells": [
  {
   "cell_type": "code",
   "execution_count": 7,
   "id": "73f35794",
   "metadata": {},
   "outputs": [
    {
     "name": "stdout",
     "output_type": "stream",
     "text": [
      "5\n",
      "120\n"
     ]
    }
   ],
   "source": [
    "n=int(input())\n",
    "fact=1\n",
    "for i in range(n):\n",
    "    i+=1\n",
    "    fact*=i\n",
    "print(fact)    \n",
    "    "
   ]
  },
  {
   "cell_type": "markdown",
   "id": "9371c1fc",
   "metadata": {},
   "source": [
    "#### To Find nCr"
   ]
  },
  {
   "cell_type": "code",
   "execution_count": 14,
   "id": "a029ae37",
   "metadata": {},
   "outputs": [
    {
     "name": "stdout",
     "output_type": "stream",
     "text": [
      "4\n",
      "2\n",
      "6\n"
     ]
    }
   ],
   "source": [
    "n=int(input())\n",
    "r=int(input())\n",
    "n_fact=1\n",
    "for i in range(n):\n",
    "    i+=1\n",
    "    n_fact*=i\n",
    "r_fact=1    \n",
    "for i in range(r):\n",
    "    i+=1\n",
    "    r_fact*=i\n",
    "n_r_fact=1\n",
    "for i in range(n-r):\n",
    "    i+=1\n",
    "    n_r_fact*=i\n",
    "ans=n_fact//(n_r_fact*r_fact)    \n",
    "print(ans)    \n",
    "        "
   ]
  },
  {
   "cell_type": "markdown",
   "id": "747de4c7",
   "metadata": {},
   "source": [
    "### Use of Function "
   ]
  },
  {
   "cell_type": "code",
   "execution_count": 21,
   "id": "4cada2e9",
   "metadata": {},
   "outputs": [],
   "source": [
    "def fact(n):\n",
    "    f=1\n",
    "    for i in range(n):\n",
    "        i+=1\n",
    "        f*=i\n",
    "    return f\n"
   ]
  },
  {
   "cell_type": "code",
   "execution_count": 22,
   "id": "468f604b",
   "metadata": {},
   "outputs": [
    {
     "data": {
      "text/plain": [
       "24"
      ]
     },
     "execution_count": 22,
     "metadata": {},
     "output_type": "execute_result"
    }
   ],
   "source": [
    "fact(4)"
   ]
  },
  {
   "cell_type": "code",
   "execution_count": 24,
   "id": "b0891c22",
   "metadata": {},
   "outputs": [
    {
     "name": "stdout",
     "output_type": "stream",
     "text": [
      "4\n",
      "2\n",
      "6\n"
     ]
    }
   ],
   "source": [
    "n=int(input())\n",
    "r=int(input())\n",
    "n_fact=fact(n)\n",
    "r_fact=fact(r)\n",
    "n_r_fact=fact(n-r)\n",
    "print(n_fact//(r_fact*n_r_fact))"
   ]
  },
  {
   "cell_type": "code",
   "execution_count": 25,
   "id": "f091f7a9",
   "metadata": {},
   "outputs": [
    {
     "name": "stdout",
     "output_type": "stream",
     "text": [
      "15\n"
     ]
    }
   ],
   "source": [
    "def func(a):\n",
    "    a=a+10\n",
    "    return a\n",
    "b=5\n",
    "b=func(b)\n",
    "print(b)"
   ]
  },
  {
   "cell_type": "code",
   "execution_count": 26,
   "id": "77d8ba4d",
   "metadata": {},
   "outputs": [
    {
     "name": "stdout",
     "output_type": "stream",
     "text": [
      "100\n"
     ]
    }
   ],
   "source": [
    "def func(a):\n",
    "    a=a*10\n",
    "    return a\n",
    "a=10\n",
    "a=func(a)\n",
    "print(a)"
   ]
  },
  {
   "cell_type": "code",
   "execution_count": 62,
   "id": "809db98d",
   "metadata": {},
   "outputs": [],
   "source": [
    "def Isprime(n):\n",
    "    for d in range(2,n):\n",
    "        if (n%d==0):\n",
    "            break\n",
    "        else:\n",
    "            return True\n",
    "        \n",
    "    return False"
   ]
  },
  {
   "cell_type": "code",
   "execution_count": 63,
   "id": "a40f0638",
   "metadata": {},
   "outputs": [
    {
     "data": {
      "text/plain": [
       "True"
      ]
     },
     "execution_count": 63,
     "metadata": {},
     "output_type": "execute_result"
    }
   ],
   "source": [
    "Isprime(17)"
   ]
  },
  {
   "cell_type": "code",
   "execution_count": 64,
   "id": "c077af56",
   "metadata": {},
   "outputs": [],
   "source": [
    "def allprime(n):\n",
    "    for k in range(2,n+1):\n",
    "        is_k_prime=Isprime(k)\n",
    "        if (is_k_prime):\n",
    "            print(k)"
   ]
  },
  {
   "cell_type": "code",
   "execution_count": 65,
   "id": "3839e455",
   "metadata": {},
   "outputs": [
    {
     "name": "stdout",
     "output_type": "stream",
     "text": [
      "3\n",
      "5\n",
      "7\n",
      "9\n",
      "11\n",
      "13\n",
      "15\n",
      "17\n",
      "19\n"
     ]
    }
   ],
   "source": [
    "allprime(20)"
   ]
  },
  {
   "cell_type": "code",
   "execution_count": 66,
   "id": "54ee8087",
   "metadata": {},
   "outputs": [
    {
     "name": "stdout",
     "output_type": "stream",
     "text": [
      "16\n"
     ]
    }
   ],
   "source": [
    "def square(a):\n",
    "    ans=a*a\n",
    "    return ans \n",
    "a=4\n",
    "a=square(a)\n",
    "print(a)"
   ]
  },
  {
   "cell_type": "code",
   "execution_count": 68,
   "id": "140c1fe5",
   "metadata": {},
   "outputs": [
    {
     "name": "stdout",
     "output_type": "stream",
     "text": [
      "4\n"
     ]
    }
   ],
   "source": [
    "def num(a):\n",
    "    a=a*a\n",
    "    return a\n",
    "a=4\n",
    "num(a)\n",
    "print(a)"
   ]
  },
  {
   "cell_type": "code",
   "execution_count": null,
   "id": "adfbc7e4",
   "metadata": {},
   "outputs": [],
   "source": []
  }
 ],
 "metadata": {
  "kernelspec": {
   "display_name": "Python 3 (ipykernel)",
   "language": "python",
   "name": "python3"
  },
  "language_info": {
   "codemirror_mode": {
    "name": "ipython",
    "version": 3
   },
   "file_extension": ".py",
   "mimetype": "text/x-python",
   "name": "python",
   "nbconvert_exporter": "python",
   "pygments_lexer": "ipython3",
   "version": "3.8.19"
  }
 },
 "nbformat": 4,
 "nbformat_minor": 5
}
