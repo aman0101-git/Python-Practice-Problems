{
 "cells": [
  {
   "cell_type": "markdown",
   "id": "b498e611",
   "metadata": {},
   "source": [
    "### Average or Mean\n"
   ]
  },
  {
   "cell_type": "code",
   "execution_count": 17,
   "id": "e97a0f44",
   "metadata": {},
   "outputs": [
    {
     "name": "stdout",
     "output_type": "stream",
     "text": [
      "44.285714285714285\n"
     ]
    }
   ],
   "source": [
    "def findavg(l):\n",
    "    sum=0\n",
    "    for x in l:\n",
    "        sum=sum+x\n",
    "    n=len(l)    \n",
    "    return sum/n\n",
    "l=[10,20,30,40,50,60,100]\n",
    "print(findavg(l))"
   ]
  },
  {
   "cell_type": "markdown",
   "id": "3cff30c8",
   "metadata": {},
   "source": [
    "### Separate Even and Odd"
   ]
  },
  {
   "cell_type": "code",
   "execution_count": 8,
   "id": "5d016f12",
   "metadata": {},
   "outputs": [
    {
     "name": "stdout",
     "output_type": "stream",
     "text": [
      "[2, 4, 6, 8, 10]\n",
      "[1, 3, 5, 7, 9]\n"
     ]
    }
   ],
   "source": [
    "def evenodd(l):\n",
    "    even=[]\n",
    "    odd=[]\n",
    "    for x in l:\n",
    "        if (x%2==0):\n",
    "            even.append(x)\n",
    "        else:\n",
    "            odd.append(x)\n",
    "    return even,odd\n",
    "l=[1,2,3,4,5,6,7,8,9,10]\n",
    "even,odd = evenodd(l)\n",
    "print(even)\n",
    "print(odd)"
   ]
  },
  {
   "cell_type": "markdown",
   "id": "9f77fd1e",
   "metadata": {},
   "source": [
    "### Get Smaller Elements"
   ]
  },
  {
   "cell_type": "code",
   "execution_count": 16,
   "id": "5ac7f6fd",
   "metadata": {},
   "outputs": [
    {
     "name": "stdout",
     "output_type": "stream",
     "text": [
      "[10, 5, 9]\n"
     ]
    }
   ],
   "source": [
    "def getsmaller(l,x):\n",
    "    small=[]\n",
    "    for e in l:\n",
    "        if e<x:\n",
    "            small.append(e)\n",
    "    return small      \n",
    "l=[10,20,5,30,9]\n",
    "x=20\n",
    "print(getsmaller(l,x))\n"
   ]
  },
  {
   "cell_type": "markdown",
   "id": "86a6d1d3",
   "metadata": {},
   "source": [
    "### Comprehension in Python "
   ]
  },
  {
   "cell_type": "code",
   "execution_count": 17,
   "id": "1f44b393",
   "metadata": {},
   "outputs": [
    {
     "name": "stdout",
     "output_type": "stream",
     "text": [
      "['e', 'e', 'o', 'e', 'e']\n"
     ]
    }
   ],
   "source": [
    "s= \"geekforgeeks\"\n",
    "l= [x for x in s if x in \"aeiou\"]\n",
    "print(l)"
   ]
  },
  {
   "cell_type": "code",
   "execution_count": 21,
   "id": "46169540",
   "metadata": {},
   "outputs": [
    {
     "name": "stdout",
     "output_type": "stream",
     "text": [
      "['aman', 'and', 'apple']\n"
     ]
    }
   ],
   "source": [
    "l1=[\"aman\",\"and\",\"she\",'wants','apple']\n",
    "l2=[x for x in l1 if x.startswith(\"a\")]\n",
    "print(l2)"
   ]
  },
  {
   "cell_type": "code",
   "execution_count": 22,
   "id": "356c0b64",
   "metadata": {},
   "outputs": [
    {
     "name": "stdout",
     "output_type": "stream",
     "text": [
      "[0, 2, 4, 6, 8, 10]\n"
     ]
    }
   ],
   "source": [
    "l3=[x*2 for x in range(6)]\n",
    "print(l3)"
   ]
  },
  {
   "cell_type": "markdown",
   "id": "56c0af26",
   "metadata": {},
   "source": [
    "### Dictionary Comprehension"
   ]
  },
  {
   "cell_type": "code",
   "execution_count": 5,
   "id": "8c4703d4",
   "metadata": {},
   "outputs": [
    {
     "name": "stdout",
     "output_type": "stream",
     "text": [
      "{64, 1, 8, 27, 125}\n"
     ]
    }
   ],
   "source": [
    "l=[1,2,3,4,5]\n",
    "d={x:x**3 for x in l}\n",
    "print(d)"
   ]
  },
  {
   "cell_type": "code",
   "execution_count": 14,
   "id": "1af5ad36",
   "metadata": {},
   "outputs": [
    {
     "name": "stdout",
     "output_type": "stream",
     "text": [
      "{0: 'ID[l1]', 1: 'ID[l1]', 2: 'ID[l1]', 3: 'ID[l1]', 4: 'ID[l1]'}\n"
     ]
    }
   ],
   "source": [
    "d2={x:\"ID[l1]\"for x in range (5)}\n",
    "print(d2)"
   ]
  },
  {
   "cell_type": "code",
   "execution_count": 23,
   "id": "0ffdaa1a",
   "metadata": {},
   "outputs": [
    {
     "name": "stdout",
     "output_type": "stream",
     "text": [
      "{1: 'aman', 2: 'vijay', 3: 'undre'}\n"
     ]
    }
   ],
   "source": [
    "l1=[1,2,3]\n",
    "l2=[\"aman\",\"vijay\",\"undre\"]\n",
    "#d3={l1[i]:l2[i] for i range (len(l1))}\n",
    "d3=dict(zip(l1,l2))\n",
    "print(d3)"
   ]
  },
  {
   "cell_type": "code",
   "execution_count": 25,
   "id": "c25ce4e9",
   "metadata": {},
   "outputs": [
    {
     "name": "stdout",
     "output_type": "stream",
     "text": [
      "{'aman': 1, 'vijay': 2, 'undre': 3}\n"
     ]
    }
   ],
   "source": [
    "d4={1:'aman',2:'vijay',3:'undre'}\n",
    "d5={k:v for (v,k) in d4.items()}\n",
    "print(d5)"
   ]
  },
  {
   "cell_type": "markdown",
   "id": "51c10960",
   "metadata": {},
   "source": [
    "### Largest element in list"
   ]
  },
  {
   "cell_type": "code",
   "execution_count": 16,
   "id": "18015c13",
   "metadata": {},
   "outputs": [
    {
     "name": "stdout",
     "output_type": "stream",
     "text": [
      "1\n"
     ]
    }
   ],
   "source": [
    "def largest(l):\n",
    "    for x in l:\n",
    "        for y in l:\n",
    "            if x>y:\n",
    "                break\n",
    "            else:\n",
    "                return x\n",
    "            \n",
    "l=[1,2,3,4,5]\n",
    "print(largest(l))         \n",
    "        "
   ]
  },
  {
   "cell_type": "markdown",
   "id": "3b8aa2aa",
   "metadata": {},
   "source": [
    "### Sorted elements"
   ]
  },
  {
   "cell_type": "code",
   "execution_count": 14,
   "id": "4952aa10",
   "metadata": {},
   "outputs": [
    {
     "name": "stdout",
     "output_type": "stream",
     "text": [
      "False\n"
     ]
    }
   ],
   "source": [
    "def getsorted(l):\n",
    "    l1=sorted(l)\n",
    "    if l==l1:\n",
    "        return True\n",
    "    else:\n",
    "        return False\n",
    "l=[1,2,3,5,4]\n",
    "print(getsorted(l))"
   ]
  },
  {
   "cell_type": "markdown",
   "id": "349e462b",
   "metadata": {},
   "source": [
    "### Reverse a list"
   ]
  },
  {
   "cell_type": "code",
   "execution_count": null,
   "id": "c1665723",
   "metadata": {},
   "outputs": [],
   "source": [
    "def getreverse(l):\n",
    "    rl=l[::-1]\n",
    "    if l == rl:\n",
    "        return True \n",
    "    else:\n",
    "        return False \n",
    "l=[1,3,5,4,2]\n",
    "print(getreverse(l))"
   ]
  },
  {
   "cell_type": "markdown",
   "id": "26e55f3e",
   "metadata": {},
   "source": [
    "### Palindrome "
   ]
  },
  {
   "cell_type": "code",
   "execution_count": 21,
   "id": "71ea1953",
   "metadata": {},
   "outputs": [
    {
     "name": "stdout",
     "output_type": "stream",
     "text": [
      "True\n"
     ]
    }
   ],
   "source": [
    "def getpalindrome(l):\n",
    "    rl=l[::-1]\n",
    "    if rl==l:\n",
    "        return True \n",
    "    else:\n",
    "        return False\n",
    "l=[\"nayan\"]\n",
    "print(getpalindrome(l))"
   ]
  },
  {
   "cell_type": "code",
   "execution_count": null,
   "id": "d612722e",
   "metadata": {},
   "outputs": [],
   "source": []
  }
 ],
 "metadata": {
  "kernelspec": {
   "display_name": "Python 3 (ipykernel)",
   "language": "python",
   "name": "python3"
  },
  "language_info": {
   "codemirror_mode": {
    "name": "ipython",
    "version": 3
   },
   "file_extension": ".py",
   "mimetype": "text/x-python",
   "name": "python",
   "nbconvert_exporter": "python",
   "pygments_lexer": "ipython3",
   "version": "3.8.19"
  }
 },
 "nbformat": 4,
 "nbformat_minor": 5
}
